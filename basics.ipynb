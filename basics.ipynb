{
 "cells": [
  {
   "cell_type": "markdown",
   "metadata": {},
   "source": [
    "# Python Essentials"
   ]
  },
  {
   "cell_type": "markdown",
   "metadata": {},
   "source": [
    "### >> Intro to Programming"
   ]
  },
  {
   "cell_type": "markdown",
   "metadata": {},
   "source": [
    "1) What is Programming"
   ]
  },
  {
   "cell_type": "markdown",
   "metadata": {},
   "source": [
    "> Creating a set of instructions/program, that tell a computer to do some task"
   ]
  },
  {
   "cell_type": "code",
   "execution_count": 65,
   "metadata": {},
   "outputs": [
    {
     "name": "stdout",
     "output_type": "stream",
     "text": [
      "hello world\n"
     ]
    }
   ],
   "source": [
    "print(\"hello world\")"
   ]
  },
  {
   "cell_type": "code",
   "execution_count": 66,
   "metadata": {},
   "outputs": [
    {
     "name": "stdout",
     "output_type": "stream",
     "text": [
      "this is a set of instructions 10\n"
     ]
    }
   ],
   "source": [
    "a=10\n",
    "print(f\"this is a set of instructions {a}\")"
   ]
  },
  {
   "cell_type": "code",
   "execution_count": 67,
   "metadata": {},
   "outputs": [
    {
     "data": {
      "text/plain": [
       "5823.852"
      ]
     },
     "execution_count": 67,
     "metadata": {},
     "output_type": "execute_result"
    }
   ],
   "source": [
    "# Numbers\n",
    "20/6 # output : 3.3333333333333335\n",
    "20//6 # output : 3 (floor quotient)\n",
    "20%6 # output : 2 (remainder)\n",
    "3 * 6 + 2 # output : 20 (floor quotient * divisor + remainder)\n",
    "\n",
    "3**2 # output : 9 (3 ^ 2)\n",
    "round(5823.85248,3) # output : 5823.852"
   ]
  },
  {
   "cell_type": "code",
   "execution_count": 68,
   "metadata": {},
   "outputs": [
    {
     "name": "stdout",
     "output_type": "stream",
     "text": [
      "this is simple string inside print statement\n",
      "this is f string inside print statement with a variable number 10\n",
      "c:\\users\\admins\n",
      "c:/users/admins\n",
      "c:\\users\\admins\n",
      "fajsdhfa\n",
      "    dfkasd\n",
      "fansdkfasdfjah\n",
      "\n",
      "divyarajdivyarajdivyaraj makwana\n",
      "this is my name 'divyaraj makwana'\n",
      "this is my name 'divyaraj makwana'\n",
      "this is my name 'divyaraj makwana'\n",
      "this is my name divyaraj makwana\n",
      "this is my name test='divyaraj makwana'\n",
      "this is my name test=divyaraj makwana         \n",
      "this is my name test='divyaraj makwana'       \n",
      "this is latitude 36.0976 and this is longitude 67.9876\n",
      "this is latitude 87.8589 and this is longitude 89.8943\n",
      "this is a positive pi  3.141590 and this is negative pi -3.141590\n",
      "this is a positive pi 3.141590 and this is negative pi -3.141590\n",
      "this is a positive pi 3.141590 and this is negative pi -3.141590\n",
      "this is a positive pi +3.141590 and this is negative pi -3.141590\n",
      "left aligned                  \n",
      "                 right aligned\n",
      "                  center aligned                  \n",
      "++++++++++++++++++center aligned++++++++++++++++++\n",
      "int:90, oct:132, hex:5a, binary:1011010\n",
      "int:90, oct:0o132, hex:0x5a, binary:0b1011010\n",
      "48,438,414,534,684\n",
      "85.66\n",
      "68.40%\n"
     ]
    }
   ],
   "source": [
    "# Strings\n",
    "print('this is simple string inside print statement')\n",
    "print(f'this is f string inside print statement with a variable number {a}')\n",
    "print(\"c:\\\\users\\\\admins\") # this gives a path\n",
    "print(\"c:/users/admins\") # this also gives a path\n",
    "print(r\"c:\\users\\admins\") # this is a raw string which contains \\ but not implemented\n",
    "\n",
    "# this is a string literal printed as it is, with / for no new lines added to it\n",
    "print(\"\"\"\\\n",
    "fajsdhfa\n",
    "    dfkasd\n",
    "fansdkfasdfjah\n",
    "\"\"\") \n",
    "\n",
    "# string can be concatenated with \"+\" and repeated with \"*\"\n",
    "print(3*\"divyaraj\"+\" makwana\") \n",
    "\n",
    "# string can be automatically concatenated when 2 strings are written together\n",
    "test = (\"divyaraj\" \n",
    "      \" makwana\") \n",
    "test\n",
    "\n",
    "# to concatenate variables with string values\n",
    "test + \" is a mean stack developer\" \n",
    "\n",
    "test[0] # first character\n",
    "test[-1] # last character\n",
    "\n",
    "# [0:length(test)]\n",
    "test[0:6] # gives index from 0 to 6 characters\n",
    "test[0:] # gives full string\n",
    "test[:] # gives full string\n",
    "test[:8] # from 0 to 8 characters\n",
    "\n",
    "# indexError : string index out of range\n",
    "# test[50] \n",
    "\n",
    "# typeError : str object does not support item assignment\n",
    "# test[0:5] = 'pytho'\n",
    "\n",
    "print(f\"this is my name {test!r}\") # gives string with quotes\n",
    "print(f\"this is my name {repr(test)}\") # gives string with quotes\n",
    "print(f\"this is my name {test!a}\") # gives ascii representation with quotes\n",
    "print(f\"this is my name {test!s}\") # gives simple string without quotes\n",
    "\n",
    " # gives test value with test variable\n",
    "print(f\"this is my name {test=}\") # output : test=\"divyaraj makwana\"\n",
    "\n",
    "# gives value of test with 25 characters, if not then gives white space after string finishes\n",
    "print(f\"this is my name {test=:25}\")\n",
    "print(f\"this is my name {test=!r:25}\")\n",
    "\n",
    "# this is how used dictionary in strings using format string\n",
    "coords = {'latitude': 36.0976, 'longitude': 67.9876}\n",
    "print(\"this is latitude {latitude} and this is longitude {longitude}\".format(**coords))\n",
    "\n",
    "# use of tuples value in string representation\n",
    "cords = (87.8589, 89.8943) # 0\n",
    "# coj = (65,980) # 1\n",
    "print(\"this is latitude {0[0]} and this is longitude {0[1]}\".format(cords))\n",
    "\n",
    "# sign strings with numbers\n",
    "print(\"this is a positive pi {: f} and this is negative pi {: f}\".format(3.14159, -3.14159)) # gives one space for positive values\n",
    "print(\"this is a positive pi {:f} and this is negative pi {:f}\".format(3.14159, -3.14159)) # same as default value\n",
    "print(\"this is a positive pi {:-f} and this is negative pi {:-f}\".format(3.14159, -3.14159)) # same as default value, but show only negative values\n",
    "print(\"this is a positive pi {:+f} and this is negative pi {:+f}\".format(3.14159, -3.14159)) # show both positive and negative values\n",
    "\n",
    "# spaces in string representation\n",
    "print(\"{:<30}\".format(\"left aligned\")) # gives spaces on right side as default\n",
    "print(\"{:>30}\".format(\"right aligned\")) # gives spaces on left side \n",
    "print(\"{:^50}\".format(\"center aligned\")) # gives spaces on both sides and center the text\n",
    "print(\"{:+^50}\".format(\"center aligned\")) # gives + on both sides and center the text\n",
    "\n",
    "# representation of values or numbers in int, oct, hex, binary notation\n",
    "print(\"int:{0:d}, oct:{0:o}, hex:{0:x}, binary:{0:b}\".format(90))\n",
    "print(\"int:{0:#d}, oct:{0:#o}, hex:{0:#x}, binary:{0:#b}\".format(90))\n",
    "\n",
    "# comma as a thousands separator, useful for displaying currencies in million, billion, trillion\n",
    "print(\"{:,}\".format(48438414534684))\n",
    "\n",
    "# floating point numbers with decimal limits\n",
    "print(f\"{85.658947:.2f}\")\n",
    "\n",
    "# for calculating percentages\n",
    "marks = 342\n",
    "total = 500\n",
    "print(\"{:.2%}\".format(marks/total))"
   ]
  },
  {
   "cell_type": "code",
   "execution_count": 69,
   "metadata": {},
   "outputs": [
    {
     "name": "stdout",
     "output_type": "stream",
     "text": [
      "['red', 'blue', 'green', 'yellow', 'maginta blue', 'pink']\n",
      "[]\n"
     ]
    }
   ],
   "source": [
    "# lists\n",
    "colors = [\"red\", \"blue\", \"green\", \"yellow\"]\n",
    "colors.append(\"maginta\") # goes into the color list\n",
    "colors + [\"rainbow\"] # not goes into the color list\n",
    "colors[4] = \"maginta blue\" # changes the color at that index\n",
    "\n",
    "# this is referenced to the original, so the original colors list should be changed\n",
    "color = colors\n",
    "color.append(\"pink\")\n",
    "\n",
    "# this will not change the original colors list because all indexing creates a new list\n",
    "color = colors[:]\n",
    "color.append(\"redies blue\")\n",
    "\n",
    "# to empty the list\n",
    "color[:] = []\n",
    "print(colors)\n",
    "print(color)"
   ]
  },
  {
   "cell_type": "code",
   "execution_count": 70,
   "metadata": {},
   "outputs": [
    {
     "name": "stdout",
     "output_type": "stream",
     "text": [
      "red 3\n",
      "blue 4\n",
      "green 5\n",
      "yellow 6\n",
      "maginta blue 12\n",
      "pink 4\n",
      "vishwaraj pakistan\n",
      "0 2 4 6 8 10 12 14 16 18 \n",
      "\n",
      "0 red\n",
      "1 blue\n",
      "2 green\n",
      "3 yellow\n",
      "4 maginta blue\n",
      "5 pink\n",
      "[0, 1, 2, 3, 4, 5, 6, 7, 8, 9]\n",
      "not allowed\n"
     ]
    }
   ],
   "source": [
    "# loops and conditions\n",
    "# for loop in list \n",
    "for color in colors:\n",
    "    print(color, len(color))\n",
    "    \n",
    "# for loop in dictionary\n",
    "population = {\"divyaraj\": \"india\", \"harit\": \"indonasia\", \"vishwaraj\": \"pakistan\"}\n",
    "\n",
    "for name, place in population.copy().items():\n",
    "    if place=='pakistan':\n",
    "        print(name, place)\n",
    "        del population[name]\n",
    "population\n",
    "\n",
    "# indonasia users in new dictionary\n",
    "indonasia_users = {}\n",
    "for name, place in population.items():\n",
    "    if place=='indonasia':\n",
    "        indonasia_users[name] = population[name]\n",
    "indonasia_users\n",
    "\n",
    "# range keyword\n",
    "# range(start, end, step)\n",
    "for i in range(0,20,2):\n",
    "    print(i, end=\" \")\n",
    "print(\"\\n\")\n",
    "\n",
    "for i in range(len(colors)):\n",
    "    print(i, colors[i])\n",
    "\n",
    "# range in list\n",
    "argvs = [0,10]\n",
    "list(range(0,50,5)) # positive range\n",
    "list(range(0,-100,-20)) # negative range\n",
    "print(list(range(*argvs))) # takes list as range\n",
    "\n",
    "# sum of range\n",
    "sum(range(0,11)) # 0+1+2+3+4+5+6+7+8+9+10\n",
    "\n",
    "# match case \n",
    "def Errors(error):\n",
    "    match error:\n",
    "        case 404:\n",
    "            print(\"redish blue\")\n",
    "        case 500:\n",
    "            print(\"greenish yellow\")\n",
    "        case 409 | 504:\n",
    "            print(\"not allowed\")\n",
    "        case _:\n",
    "            print(\"no colors match\")\n",
    "Errors(409)"
   ]
  },
  {
   "cell_type": "code",
   "execution_count": 71,
   "metadata": {},
   "outputs": [
    {
     "name": "stdout",
     "output_type": "stream",
     "text": [
      "divyaraj\n",
      "----------------------------------------\n",
      "makwana\n",
      "rajkot\n",
      "----------------------------------------\n",
      "gender:male\n",
      "selected:IT engineering\n",
      "1\n",
      "10\n",
      "7\n",
      "4\n",
      "1 2 3\n",
      "divyaraj\n"
     ]
    },
    {
     "data": {
      "text/plain": [
       "False"
      ]
     },
     "execution_count": 71,
     "metadata": {},
     "output_type": "execute_result"
    }
   ],
   "source": [
    "# functions arguments and keywords\n",
    "# *argv - list of arguments\n",
    "# **kwargs - dictionary of keyword arguments\n",
    "def fund(name, *argv, **kwargs):\n",
    "    print(name)\n",
    "    print(\"-\"*40)\n",
    "    for i in argv:\n",
    "        print(i)\n",
    "    print(\"-\"*40)\n",
    "    for kw in kwargs:\n",
    "        print(f\"{kw}:{kwargs[kw]}\")\n",
    "\n",
    "fund('divyaraj', 'makwana', \"rajkot\", gender=\"male\", selected=\"IT engineering\")\n",
    "\n",
    "# functions with positional arguments and keywords and keyword arguments\n",
    "def std_argv(arg):\n",
    "    print(arg)\n",
    "def pos_only_argv(arg,/):\n",
    "    print(arg)\n",
    "def kwd_only_arg(*, arg):\n",
    "    print(arg)\n",
    "def combined_example(pos_only, /, standard, *, kwd_only):\n",
    "    print(pos_only, standard, kwd_only)\n",
    "\n",
    "# both allowed in standard arguments\n",
    "std_argv(1)\n",
    "std_argv(arg=10)\n",
    "\n",
    "# only values in positional arguments\n",
    "pos_only_argv(7)\n",
    "# pos_only_argv(arg=7) # gives typeError\n",
    "\n",
    "# only keyword arguments not values\n",
    "kwd_only_arg(arg=4)\n",
    "# kwd_only_arg(4) # gives typeError\n",
    "\n",
    "# first argument is positional only and second argument is standard(both) and third argument is keyword only\n",
    "combined_example(1,standard=2,kwd_only=3)\n",
    "\n",
    "# gives typeError : name got multiple values\n",
    "# def name(name, **kwargs):\n",
    "#     print(name)\n",
    "#     return 'name' in kwargs\n",
    "\n",
    "# to solve this problem\n",
    "def name(name, /,**kwargs):\n",
    "    print(name)\n",
    "    return 'name' in kwargs\n",
    "\n",
    "name('divyaraj', age='makwana') # returns boolean, if name is present in kwargs then returns true else false"
   ]
  },
  {
   "cell_type": "code",
   "execution_count": 113,
   "metadata": {},
   "outputs": [
    {
     "name": "stdout",
     "output_type": "stream",
     "text": [
      "['RED', 'MAGINTA BLUE', 'BLUE']\n",
      "[(1, 2), (1, 4), (1, 3), (2, 4), (2, 3), (3, 2), (3, 4)]\n",
      "[[1, 4, 7, 10], [2, 5, 8, 11], [3, 6, 9, 12]]\n",
      "[(1, 4, 7, 10), (2, 5, 8, 11), (3, 6, 9, 12)]\n"
     ]
    }
   ],
   "source": [
    "# Data Structures\n",
    "# More on lists\n",
    "clr = []\n",
    "clr.extend(colors) # same as clr = colors[:]\n",
    "\n",
    "# inserts value at index no\n",
    "clr.insert(3, \"ARIMA\") # (index, value)\n",
    "\n",
    "# removes value\n",
    "clr.remove('ARIMA')\n",
    "\n",
    "# pop removes value from last if no index is given\n",
    "clr.pop(3) # 3rd index removed\n",
    "clr.pop() # last value removed\n",
    "\n",
    "# clear the list\n",
    "# clr.clear() \n",
    "\n",
    "# gives index value, if not found gives valueError\n",
    "clr.index('blue', 0, 2) # (value, startindex, endindex), limits the search\n",
    "\n",
    "# counts the value in list\n",
    "clr.count('blue')\n",
    "\n",
    "# sort list and reverse inside it\n",
    "clr.sort(reverse=False)\n",
    "\n",
    "# reverse method in list\n",
    "clr.reverse()\n",
    "\n",
    "# copy of list\n",
    "colorrrr = clr.copy() # same as a[:]\n",
    "\n",
    "# list comprehensions\n",
    "new_list = [x.upper() for x in clr if x != 'green'] # new list with uppercase values of clr excluding green\n",
    "print(new_list)\n",
    "\n",
    "# squares = [x**2 for x in range(10)]\n",
    "# map(function, iterable)\n",
    "squares = list(map(lambda x: x**2, range(10))) # same as upper squares\n",
    "\n",
    "# one liner list comprehension\n",
    "print(list((x,y) for x in [1,2,3] for y in [2,4,3] if x != y))\n",
    "\n",
    "# nested list comprehension\n",
    "matrix = [[1,2,3],[4,5,6],[7,8,9],[10,11,12]]\n",
    "nested = [[row[i] for row in matrix] for i in range(3)] # takes first from 4 list of matrix then 2nd then 3rd\n",
    "nested_print = [num for row in matrix for num in row] # prints 2d matrix in one list\n",
    "\n",
    "nested_list = [[x+y for x in range(3)] for y in range(3)]\n",
    "\n",
    "# zip method\n",
    "print(list(zip(*matrix)))"
   ]
  },
  {
   "cell_type": "code",
   "execution_count": 122,
   "metadata": {},
   "outputs": [
    {
     "name": "stdout",
     "output_type": "stream",
     "text": [
      "('divyaraj',)\n"
     ]
    }
   ],
   "source": [
    "#  more on tuples\n",
    "t = (1,2,3,4,5)\n",
    "\n",
    "# by specifing by this, if tuple contain only one item then dont forgot to use comma after that\n",
    "u = \"hello\",23,3.14\n",
    "# y = \"divyaraj\", # this is tuple because of comma\n",
    "\n",
    "# tuples may contain mutable objects\n",
    "nnn = ([1,2,3],[4,5,6])\n",
    "nnn[0][1] = 7\n",
    "\n",
    "# tuples can be nested\n",
    "x = t,u"
   ]
  },
  {
   "cell_type": "code",
   "execution_count": 130,
   "metadata": {},
   "outputs": [
    {
     "name": "stdout",
     "output_type": "stream",
     "text": [
      "{'j', 'b', 'd', 'h', 'c', 'g'}\n",
      "{'n', 'm', 'j', 'b', 'd', 'h', 'a', 'c', 'w', 'g', 'k'}\n",
      "{'a', 'k'}\n",
      "{'j', 'd', 'h', 'n', 'm', 'b', 'c', 'w', 'g'}\n"
     ]
    }
   ],
   "source": [
    "# more on sets\n",
    "name = set() # empty set\n",
    "animals = {'cat', 'bat', 'rat', 'cat', 'dog', 'rat'}\n",
    "\n",
    "# operations on sets\n",
    "set1 = set('abckajdhg')\n",
    "set2 = set('makwana')\n",
    "\n",
    "print(set1-set2) # gives elem in set1 but not in set2\n",
    "print(set1|set2) # gives elem in set1 or in set2 or both\n",
    "print(set1&set2) # gives elem in both set1 and set2\n",
    "print(set1^set2) # gives elem in both but not common elem\n"
   ]
  },
  {
   "cell_type": "code",
   "execution_count": 153,
   "metadata": {},
   "outputs": [
    {
     "name": "stdout",
     "output_type": "stream",
     "text": [
      "{0: 0, 1: 1, 2: 8, 3: 27, 4: 64, 5: 125, 6: 216, 7: 343, 8: 512, 9: 729, 10: 1000}\n",
      "0 tic\n",
      "1 tac\n",
      "2 toe\n",
      "8 6 4 2 0 \n",
      "\n",
      "1 2 3 4 5 5 \n",
      "\n",
      "1 2 3 4 5 "
     ]
    }
   ],
   "source": [
    "# more on dictionaries\n",
    "x = dict([('a', 1), ('b', 2)]) # first assignment to dictionary\n",
    "y = dict(a=1, b=2) # second assignment to dictionary\n",
    "z = dict() # empty dictionary\n",
    "z = {'a': 1, 'b': 2} # third assignment to dictionary\n",
    "z['a'] = 3 # to change value of key 'a'\n",
    "\n",
    "# one liner dictionary\n",
    "a = {x:x**3 for x in range(11)}\n",
    "print(a)\n",
    "\n",
    "# operations on dictionaries\n",
    "d1 = {'a': 1, 'b': 2}\n",
    "d2 = {'b': 3, 'c': 4}\n",
    "d3 = d1.copy()\n",
    "\n",
    "# adds key value pair if not, and if there is then updates that value\n",
    "d3.update(d2) # updates d3 with d2\n",
    "\n",
    "# clears d3\n",
    "d3.clear() \n",
    "\n",
    "# returns value of key 'a' if not found gives None\n",
    "d3.get('a')\n",
    "\n",
    " # returns value of key 'a' if not found gives 0 inplace of none\n",
    "d3.get('a', 0)\n",
    "\n",
    "# enumerate function gives values with index\n",
    "for i, v in enumerate(['tic', 'tac', 'toe']):\n",
    "    print(i, v)\n",
    "\n",
    "# reverse the loop\n",
    "for i in reversed(range(0,10,2)):\n",
    "    print(i, end=\" \")\n",
    "\n",
    "print(\"\\n\")\n",
    "\n",
    "# sorted and set in loop\n",
    "for i in sorted([5,5, 2, 3, 1, 4]):\n",
    "    print(i, end=\" \")\n",
    "\n",
    "print(\"\\n\")\n",
    "\n",
    "for i in sorted(set([5,5, 2, 3, 1, 4])):\n",
    "    print(i, end=\" \")\n"
   ]
  },
  {
   "cell_type": "markdown",
   "metadata": {},
   "source": []
  }
 ],
 "metadata": {
  "kernelspec": {
   "display_name": "Python 3",
   "language": "python",
   "name": "python3"
  },
  "language_info": {
   "codemirror_mode": {
    "name": "ipython",
    "version": 3
   },
   "file_extension": ".py",
   "mimetype": "text/x-python",
   "name": "python",
   "nbconvert_exporter": "python",
   "pygments_lexer": "ipython3",
   "version": "3.11.0"
  }
 },
 "nbformat": 4,
 "nbformat_minor": 2
}
